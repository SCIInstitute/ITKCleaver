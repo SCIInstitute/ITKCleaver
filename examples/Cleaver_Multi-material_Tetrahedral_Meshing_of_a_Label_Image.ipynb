{
 "cells": [
  {
   "cell_type": "code",
   "execution_count": 1,
   "id": "b7bb9849",
   "metadata": {},
   "outputs": [],
   "source": [
    "import itk"
   ]
  },
  {
   "cell_type": "code",
   "execution_count": 2,
   "id": "0f6fd33b",
   "metadata": {},
   "outputs": [],
   "source": [
    "image = itk.imread('./mickey.nrrd')"
   ]
  },
  {
   "cell_type": "code",
   "execution_count": 3,
   "id": "893f7367",
   "metadata": {},
   "outputs": [],
   "source": [
    "tet_mesh, triangle_mesh = itk.cleaver_image_to_mesh_filter(image)"
   ]
  },
  {
   "cell_type": "code",
   "execution_count": 4,
   "id": "a17510da",
   "metadata": {},
   "outputs": [],
   "source": [
    "itk.meshwrite(triangle_mesh, './triangle_mesh.vtk')"
   ]
  }
 ],
 "metadata": {
  "kernelspec": {
   "display_name": "Python 3 (ipykernel)",
   "language": "python",
   "name": "python3"
  },
  "language_info": {
   "codemirror_mode": {
    "name": "ipython",
    "version": 3
   },
   "file_extension": ".py",
   "mimetype": "text/x-python",
   "name": "python",
   "nbconvert_exporter": "python",
   "pygments_lexer": "ipython3",
   "version": "3.9.10"
  }
 },
 "nbformat": 4,
 "nbformat_minor": 5
}
